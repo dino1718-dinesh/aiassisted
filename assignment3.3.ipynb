{
  "nbformat": 4,
  "nbformat_minor": 0,
  "metadata": {
    "colab": {
      "provenance": [],
      "authorship_tag": "ABX9TyMTGzGqJzSV87VcE2bpP6s2",
      "include_colab_link": true
    },
    "kernelspec": {
      "name": "python3",
      "display_name": "Python 3"
    },
    "language_info": {
      "name": "python"
    }
  },
  "cells": [
    {
      "cell_type": "markdown",
      "metadata": {
        "id": "view-in-github",
        "colab_type": "text"
      },
      "source": [
        "<a href=\"https://colab.research.google.com/github/dino1718-dinesh/aiassisted/blob/main/assignment3.3.ipynb\" target=\"_parent\"><img src=\"https://colab.research.google.com/assets/colab-badge.svg\" alt=\"Open In Colab\"/></a>"
      ]
    },
    {
      "cell_type": "markdown",
      "source": [
        "task;try 3 different prompts to generate a factorial function"
      ],
      "metadata": {
        "id": "QRn16KSuZQK7"
      }
    },
    {
      "cell_type": "markdown",
      "source": [],
      "metadata": {
        "id": "c6UtTxzkZPph"
      }
    },
    {
      "cell_type": "markdown",
      "metadata": {
        "id": "f44dabbb"
      },
      "source": [
        "Here are three different prompts to generate a factorial function, along with the generated Python code for each."
      ]
    },
    {
      "cell_type": "markdown",
      "metadata": {
        "id": "528673f5"
      },
      "source": [
        "**Prompt 1: Basic request**"
      ]
    },
    {
      "cell_type": "code",
      "metadata": {
        "id": "b0a15ec1"
      },
      "source": [
        "# Prompt 1: Write a Python function to calculate the factorial of a non-negative integer.\n",
        "\n",
        "def factorial_basic(n):\n",
        "    \"\"\"Calculates the factorial of a non-negative integer using a loop.\"\"\"\n",
        "    if n < 0:\n",
        "        return \"Factorial is not defined for negative numbers\"\n",
        "    elif n == 0:\n",
        "        return 1\n",
        "    else:\n",
        "        result = 1\n",
        "        for i in range(1, n + 1):\n",
        "            result *= i\n",
        "        return result\n",
        "\n",
        "# Test the function\n",
        "print(f\"Factorial of 5 (Prompt 1): {factorial_basic(5)}\")\n",
        "print(f\"Factorial of 0 (Prompt 1): {factorial_basic(0)}\")\n",
        "print(f\"Factorial of -1 (Prompt 1): {factorial_basic(-1)}\")"
      ],
      "execution_count": null,
      "outputs": []
    },
    {
      "cell_type": "markdown",
      "source": [
        "This code defines a function called factorial_basic that calculates the factorial of a non-negative integer using a for loop.\n",
        "\n",
        "Here's a breakdown:\n",
        "\n",
        "def factorial_basic(n):: This line defines a function named factorial_basic that takes one argument, n.\n",
        "\"\"\"Calculates the factorial of a non-negative integer using a loop.\"\"\": This is a docstring, which explains what the function does.\n",
        "if n < 0:: This checks if the input n is a negative number.\n",
        "return \"Factorial is not defined for negative numbers\": If n is negative, the function returns this string because factorials are not defined for negative numbers.\n",
        "elif n == 0:: This checks if n is 0.\n",
        "return 1: If n is 0, the function returns 1, as the factorial of 0 is defined as 1.\n",
        "else:: This block is executed if n is a non-negative integer greater than 0.\n",
        "result = 1: Initializes a variable result to 1. This will store the calculated factorial.\n",
        "for i in range(1, n + 1):: This loop iterates from 1 up to and including n.\n",
        "result *= i: In each iteration, result is multiplied by the current value of i. This performs the factorial calculation (n * (n-1) * ... * 1).\n",
        "return result: After the loop finishes, the function returns the calculated result, which is the factorial of n."
      ],
      "metadata": {
        "id": "I71jB6HUadnk"
      }
    },
    {
      "cell_type": "markdown",
      "metadata": {
        "id": "e4538231"
      },
      "source": [
        "**Prompt 2: Specifying recursion**"
      ]
    },
    {
      "cell_type": "code",
      "metadata": {
        "id": "61866f84"
      },
      "source": [
        "# Prompt 2: Write a Python function to calculate the factorial of a non-negative integer using recursion.\n",
        "\n",
        "def factorial_recursive(n):\n",
        "    \"\"\"Calculates the factorial of a non-negative integer using recursion.\"\"\"\n",
        "    if n < 0:\n",
        "        return \"Factorial is not defined for negative numbers\"\n",
        "    elif n == 0:\n",
        "        return 1\n",
        "    else:\n",
        "        return n * factorial_recursive(n - 1)\n",
        "\n",
        "# Test the function\n",
        "print(f\"Factorial of 5 (Prompt 2): {factorial_recursive(5)}\")\n",
        "print(f\"Factorial of 0 (Prompt 2): {factorial_recursive(0)}\")\n",
        "print(f\"Factorial of -1 (Prompt 2): {factorial_recursive(1)}\") # Testing with a valid input for demonstration"
      ],
      "execution_count": null,
      "outputs": []
    },
    {
      "cell_type": "markdown",
      "source": [
        "This code defines a function called factorial_recursive that calculates the factorial of a non-negative integer using recursion.\n",
        "\n",
        "Here's how it works:\n",
        "\n",
        "def factorial_recursive(n):: This line defines the function named factorial_recursive that takes one argument, n.\n",
        "\"\"\"Calculates the factorial of a non-negative integer using recursion.\"\"\": This is the docstring explaining the function's purpose.\n",
        "if n < 0:: This checks if the input n is a negative number.\n",
        "return \"Factorial is not defined for negative numbers\": If n is negative, it returns this string.\n",
        "elif n == 0:: This checks if n is 0.\n",
        "return 1: If n is 0, the function returns 1, which is the base case for the recursion (factorial of 0 is 1).\n",
        "else:: This block is for non-negative integers greater than 0.\n",
        "return n * factorial_recursive(n - 1): This is the recursive step. The function calls itself with n - 1 and multiplies the result by n. This process continues until the base case (n == 0) is reached. For example, factorial_recursive(5) calls factorial_recursive(4), which calls factorial_recursive(3), and so on, until factorial_recursive(0) returns 1. Then the results are multiplied back up the call stack: 1 * 1 * 2 * 3 * 4 * 5."
      ],
      "metadata": {
        "id": "rugBcx6La1jg"
      }
    },
    {
      "cell_type": "code",
      "metadata": {
        "id": "627bb711"
      },
      "source": [
        "# Prompt 3: Create a robust Python function called `calculate_factorial` that takes a non-negative integer as input and returns its factorial. Include error handling for negative inputs and use a docstring to explain its purpose.\n",
        "\n",
        "def calculate_factorial(n):\n",
        "    \"\"\"\n",
        "    Calculates the factorial of a non-negative integer.\n",
        "\n",
        "    Args:\n",
        "        n: A non-negative integer.\n",
        "\n",
        "    Returns:\n",
        "        The factorial of n if n is non-negative, otherwise an error message.\n",
        "    \"\"\"\n",
        "    if not isinstance(n, int) or n < 0:\n",
        "        return \"Input must be a non-negative integer.\"\n",
        "    elif n == 0:\n",
        "        return 1\n",
        "    else:\n",
        "        result = 1\n",
        "        for i in range(1, n + 1):\n",
        "            result *= i\n",
        "        return result\n",
        "\n",
        "# Test the function\n",
        "print(f\"Factorial of 5 (Prompt 3): {calculate_factorial(5)}\")\n",
        "print(f\"Factorial of 0 (Prompt 3): {calculate_factorial(0)}\")\n",
        "print(f\"Factorial of -2 (Prompt 3): {calculate_factorial(-2)}\")\n",
        "print(f\"Factorial of 3.5 (Prompt 3): {calculate_factorial(3.5)}\")"
      ],
      "execution_count": null,
      "outputs": []
    },
    {
      "cell_type": "markdown",
      "source": [
        "def calculate_factorial(n):: This line defines the function named calculate_factorial that takes one argument, n.\n",
        "Docstring (\"\"\"Calculates the factorial of a non-negative integer....\"\"\"): This multi-line string explains the function's purpose, its arguments (Args), and what it returns (Returns). This is good practice for documenting your code.\n",
        "if not isinstance(n, int) or n < 0:: This is the enhanced error handling.\n",
        "not isinstance(n, int): This checks if the input n is not an integer.\n",
        "n < 0: This checks if the input n is a negative number.\n",
        "The or means that if either of these conditions is true (the input is not an integer or it's negative), the following block is executed.\n",
        "return \"Input must be a non-negative integer.\": If the input is not a non-negative integer, the function returns this error message.\n",
        "elif n == 0:: This checks if n is 0.\n",
        "return 1: If n is 0, the function returns 1 (factorial of 0 is 1).\n",
        "else:: This block is executed if n is a positive integer.\n",
        "result = 1: Initializes a variable result to 1 to store the factorial calculation.\n",
        "for i in range(1, n + 1):: This loop iterates from 1 up to and including n.\n",
        "result *= i: In each iteration, result is multiplied by the current value of i to calculate the factorial.\n",
        "return result: After the loop, the calculated factorial is returned."
      ],
      "metadata": {
        "id": "QFxVQneibXfz"
      }
    },
    {
      "cell_type": "markdown",
      "source": [
        "task2;Provide a clear example input-output prompt to generate a sorting function.\n"
      ],
      "metadata": {
        "id": "Wrks43TUbe1E"
      }
    },
    {
      "cell_type": "markdown",
      "metadata": {
        "id": "91f33009"
      },
      "source": [
        "Here is a clear example of an input-output prompt designed to generate a sorting function, followed by the expected Python code output.\n",
        "\n",
        "**Example Input-Output Prompt:**"
      ]
    },
    {
      "cell_type": "markdown",
      "metadata": {
        "id": "ef86afda"
      },
      "source": [
        "**Expected Python Code Output based on the prompt:**"
      ]
    },
    {
      "cell_type": "code",
      "metadata": {
        "id": "cbcb7a51"
      },
      "source": [
        "def sort_list_ascending(numbers):\n",
        "  \"\"\"\n",
        "  Sorts a list of numbers in ascending order.\n",
        "\n",
        "  Args:\n",
        "    numbers: A list of numbers.\n",
        "\n",
        "  Returns:\n",
        "    A new list with the numbers sorted in ascending order.\n",
        "  \"\"\"\n",
        "  return sorted(numbers)\n",
        "\n",
        "# Example usage:\n",
        "my_list = [3, 1, 4, 1, 5, 9, 2, 6]\n",
        "sorted_list = sort_list_ascending(my_list)\n",
        "print(f\"Original list: {my_list}\")\n",
        "print(f\"Sorted list: {sorted_list}\")"
      ],
      "execution_count": null,
      "outputs": []
    },
    {
      "cell_type": "markdown",
      "source": [
        "def sort_list_ascending(numbers):: This line defines a function named sort_list_ascending that takes one argument, numbers, which is expected to be a list.\n",
        "Docstring (\"\"\"Sorts a list of numbers in ascending order....\"\"\"): This multi-line string explains the function's purpose, its arguments (Args), and what it returns (Returns).\n",
        "return sorted(numbers): This is the core of the function. Python's built-in sorted() function takes an iterable (like a list) and returns a new list containing all items from the iterable in ascending order. The function then returns this newly sorted list.\n",
        "# Example usage:: This is a comment indicating the start of the example demonstrating how to use the function.\n",
        "my_list = [3, 1, 4, 1, 5, 9, 2, 6]: This line creates a list of numbers called my_list.\n",
        "sorted_list = sort_list_ascending(my_list): This line calls the sort_list_ascending function with my_list as the input and stores the returned sorted list in a new variable called sorted_list.\n",
        "print(f\"Original list: {my_list}\"): This line prints the original my_list.\n",
        "print(f\"Sorted list: {sorted_list}\"): This line prints the sorted_list, which is the result of calling the sorting function."
      ],
      "metadata": {
        "id": "3EXJL-y3cPXs"
      }
    },
    {
      "cell_type": "markdown",
      "source": [
        "task3;Start with the vague prompt \"Generate python code to calculate power bill\" and\n",
        "\n",
        "improve it step-by-step\n"
      ],
      "metadata": {
        "id": "oy0PXPClcQ8_"
      }
    },
    {
      "cell_type": "code",
      "metadata": {
        "id": "54141084"
      },
      "source": [
        "# Vague prompt: Generate python code to calculate power bill\n",
        "\n",
        "def calculate_power_bill():\n",
        "  \"\"\"\n",
        "  Calculates a basic power bill.\n",
        "  This is a very simplified example and does not account for\n",
        "  different tariffs, tiered pricing, or other common charges.\n",
        "  \"\"\"\n",
        "  kilowatt_hours_used = float(input(\"Enter kilowatt-hours used: \"))\n",
        "  rate_per_kwh = float(input(\"Enter rate per kilowatt-hour: \"))\n",
        "\n",
        "  total_bill = kilowatt_hours_used * rate_per_kwh\n",
        "  print(f\"Your estimated power bill is: ${total_bill:.2f}\")\n",
        "\n",
        "# Run the function\n",
        "calculate_power_bill()"
      ],
      "execution_count": null,
      "outputs": []
    },
    {
      "cell_type": "markdown",
      "source": [
        "def calculate_power_bill():: This line defines a function named calculate_power_bill.\n",
        "Docstring (\"\"\"Calculates a basic power bill....\"\"\"): This multi-line string explains the function's purpose and explicitly mentions that it's a very simplified example that doesn't include complexities like different tariffs or tiered pricing.\n",
        "kilowatt_hours_used = float(input(\"Enter kilowatt-hours used: \")): This line prompts the user to enter the kilowatt-hours used. The input() function reads the user's input as a string, and float() converts that string to a floating-point number, which is then stored in the kilowatt_hours_used variable.\n",
        "rate_per_kwh = float(input(\"Enter rate per kilowatt-hour: \")): This line prompts the user to enter the rate per kilowatt-hour. Similar to the previous line, it reads the input and converts it to a float, storing it in the rate_per_kwh variable.\n",
        "total_bill = kilowatt_hours_used * rate_per_kwh: This line calculates the total power bill by multiplying the kilowatt-hours used by the rate per kilowatt-hour. The result is stored in the total_bill variable.\n",
        "print(f\"Your estimated power bill is: ${total_bill:.2f}\"): This line prints the calculated estimated power bill.\n",
        "The f\"\" denotes an f-string, which allows embedding variables directly within the string.\n",
        "${total_bill:.2f} formats the total_bill value as a floating-point number with exactly two digits after the decimal point, suitable for displaying currency.\n",
        "# Run the function: This is a comment.\n",
        "calculate_power_bill(): This line calls the calculate_power_bill function, starting the execution of the code within the function"
      ],
      "metadata": {
        "id": "tpghKKHhc-rB"
      }
    },
    {
      "cell_type": "markdown",
      "source": [
        "task4;Write structured comments to help AI generate two linked functions (e.g., login user and register_user()).\n",
        "\n"
      ],
      "metadata": {
        "id": "Ogan4-5ydBeF"
      }
    },
    {
      "cell_type": "markdown",
      "metadata": {
        "id": "5874de98"
      },
      "source": [
        "Here is an example of how to use structured comments to help an AI generate two linked functions, `register_user` and `login_user`. The comments clearly define the purpose, arguments, return values, and interactions between the functions."
      ]
    },
    {
      "cell_type": "code",
      "metadata": {
        "id": "8c2b59e1"
      },
      "source": [
        "# Function 1: Register User\n",
        "# Purpose: To register a new user with a username and password.\n",
        "# Arguments:\n",
        "# - username (str): The desired username for the new user.\n",
        "# - password (str): The desired password for the new user.\n",
        "# Returns:\n",
        "# - bool: True if registration is successful, False otherwise (e.g., username already exists).\n",
        "# Side Effects:\n",
        "# - Should store the new user's credentials securely (e.g., in a dictionary or database).\n",
        "# Linked Function: This function is linked to `login_user` as a user must be registered before logging in.\n",
        "def register_user(username, password):\n",
        "    # Assume a simple in-memory storage for demonstration\n",
        "    if username in users_db:\n",
        "        print(f\"Error: Username '{username}' already exists.\")\n",
        "        return False\n",
        "    users_db[username] = password # In a real application, store hashed passwords\n",
        "    print(f\"User '{username}' registered successfully.\")\n",
        "    return True\n",
        "\n",
        "# Function 2: Login User\n",
        "# Purpose: To authenticate an existing user based on their username and password.\n",
        "# Arguments:\n",
        "# - username (str): The username of the user attempting to log in.\n",
        "# - password (str): The password provided by the user.\n",
        "# Returns:\n",
        "# - bool: True if login is successful (credentials match), False otherwise.\n",
        "# Linked Function: This function is linked to `register_user` as it requires a user to be registered first.\n",
        "def login_user(username, password):\n",
        "    # Assume a simple in-memory storage for demonstration\n",
        "    if username not in users_db:\n",
        "        print(f\"Error: Username '{username}' not found.\")\n",
        "        return False\n",
        "    if users_db[username] == password: # In a real application, compare with hashed password\n",
        "        print(f\"User '{username}' logged in successfully.\")\n",
        "        return True\n",
        "    else:\n",
        "        print(f\"Error: Incorrect password for user '{username}'.\")\n",
        "        return False\n",
        "\n",
        "# Simple in-memory database for demonstration\n",
        "users_db = {}\n",
        "\n",
        "# Example Usage:\n",
        "print(\"--- Registering Users ---\")\n",
        "register_user(\"alice\", \"secure_password_123\")\n",
        "register_user(\"bob\", \"another_secure_pass\")\n",
        "register_user(\"alice\", \"different_password\") # Attempt to register existing user\n",
        "\n",
        "print(\"\\n--- Logging In Users ---\")\n",
        "login_user(\"alice\", \"secure_password_123\") # Successful login\n",
        "login_user(\"bob\", \"wrong_password\")     # Incorrect password\n",
        "login_user(\"charlie\", \"any_password\")   # User not found"
      ],
      "execution_count": null,
      "outputs": []
    },
    {
      "cell_type": "markdown",
      "source": [
        "Before each function (register_user and login_user), there are comments starting with # Function X: that provide clear information about the function:\n",
        "# Purpose:: Briefly explains what the function does.\n",
        "# Arguments:: Lists the expected inputs and their types.\n",
        "# Returns:: Describes the output of the function.\n",
        "# Side Effects:: Notes any changes the function makes outside its scope (like modifying the users_db).\n",
        "# Linked Function:: Explicitly states the relationship between the two functions, which is helpful for an AI to understand the flow and dependencies.\n",
        "The Code:\n",
        "\n",
        "# Simple in-memory database for demonstration: This comment clarifies that users_db is a basic dictionary used for this example and not a real database.\n",
        "users_db = {}: Initializes an empty dictionary to store usernames as keys and passwords as values.\n",
        "def register_user(username, password):: This function attempts to register a new user.\n",
        "It checks if the username already exists in users_db.\n",
        "If it exists, it prints an error and returns False.\n",
        "If it doesn't exist, it adds the username and password to users_db and returns True. (In a real application, the password would be hashed for security).\n",
        "def login_user(username, password):: This function attempts to log in an existing user.\n",
        "It checks if the username exists in users_db.\n",
        "If the username is not found, it prints an error and returns False.\n",
        "If the username is found, it checks if the provided password matches the one stored in users_db.\n",
        "If the passwords match, it prints a success message and returns True. (Again, in a real application, this would involve comparing with a hashed password).\n",
        "If the passwords don't match, it prints an error and returns False.\n",
        "Example Usage: The lines after the function definitions demonstrate how to call these functions to register and then attempt to log in users, including cases for successful registration/login, attempting to register an existing user, and attempting to log in with incorrect credentials or a non-existent user."
      ],
      "metadata": {
        "id": "C3wta4Ef83R8"
      }
    },
    {
      "cell_type": "markdown",
      "source": [
        "task5;Analyzing Prompt Specificity: Improving Temperature Conversion Function with Clear Instructions"
      ],
      "metadata": {
        "id": "MyWEwhv-8494"
      }
    },
    {
      "cell_type": "code",
      "metadata": {
        "id": "0f9c1efc"
      },
      "source": [
        "# Vague prompt: Generate a temperature conversion function\n",
        "\n",
        "def convert_temperature(temp, from_unit, to_unit):\n",
        "  \"\"\"Converts temperature between different units.\"\"\"\n",
        "  if from_unit.lower() == 'celsius' and to_unit.lower() == 'fahrenheit':\n",
        "    return (temp * 9/5) + 32\n",
        "  elif from_unit.lower() == 'fahrenheit' and to_unit.lower() == 'celsius':\n",
        "    return (temp - 32) * 5/9\n",
        "  # Add more conversions as needed\n",
        "  else:\n",
        "    return \"Unsupported conversion\"\n",
        "\n",
        "# Example usage:\n",
        "celsius_temp = 25\n",
        "fahrenheit_temp = convert_temperature(celsius_temp, 'celsius', 'fahrenheit')\n",
        "print(f\"{celsius_temp}°C is {fahrenheit_temp}°F\")\n",
        "\n",
        "fahrenheit_temp = 77\n",
        "celsius_temp = convert_temperature(fahrenheit_temp, 'fahrenheit', 'celsius')\n",
        "print(f\"{fahrenheit_temp}°F is {celsius_temp}°C\")"
      ],
      "execution_count": null,
      "outputs": []
    },
    {
      "cell_type": "markdown",
      "source": [
        "def convert_temperature(temp, from_unit, to_unit):: This line defines a function named convert_temperature that takes three arguments: temp (the temperature value), from_unit (the original unit), and to_unit (the target unit).\n",
        "\"\"\"Converts temperature between different units.\"\"\": This is a docstring explaining the function's purpose.\n",
        "if from_unit.lower() == 'celsius' and to_unit.lower() == 'fahrenheit':: This is the first condition. It checks if the from_unit (converted to lowercase for case-insensitivity) is 'celsius' AND the to_unit (also in lowercase) is 'fahrenheit'.\n",
        "return (temp * 9/5) + 32: If the condition in step 3 is true, this line calculates the temperature in Fahrenheit using the standard conversion formula and returns the result.\n",
        "elif from_unit.lower() == 'fahrenheit' and to_unit.lower() == 'celsius':: This is the second condition. It checks if the from_unit is 'fahrenheit' AND the to_unit is 'celsius'.\n",
        "return (temp - 32) * 5/9: If the condition in step 5 is true, this line calculates the temperature in Celsius using the standard conversion formula and returns the result.\n",
        "# Add more conversions as needed: This is a comment indicating that you could add more elif blocks here to handle other temperature unit conversions (like Kelvin).\n",
        "else:: This block is executed if none of the above if or elif conditions are met (meaning the requested conversion is not supported by the current code).\n",
        "return \"Unsupported conversion\": If the conversion is not supported, the function returns this string message.\n",
        "The lines after the function definition show example usage:\n",
        "\n",
        "Converting 25°C to Fahrenheit and printing the result.\n",
        "Converting 77°F to Celsius and printing the result.\n",
        "This code provides a basic temperature conversion for Celsius and Fahrenheit."
      ],
      "metadata": {
        "id": "jorKhvtQ9qGN"
      }
    }
  ]
}